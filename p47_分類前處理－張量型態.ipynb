{
 "cells": [
  {
   "cell_type": "code",
   "execution_count": 1,
   "metadata": {},
   "outputs": [
    {
     "name": "stdout",
     "output_type": "stream",
     "text": [
      "\n",
      " -------------type------------- \n",
      "\n",
      "<class 'float'> <class 'tensorflow.python.framework.ops.EagerTensor'> True \n",
      "\n",
      "Metal device set to: Apple M1\n",
      "\n",
      "systemMemory: 16.00 GB\n",
      "maxCacheSize: 5.33 GB\n",
      "\n",
      "<dtype: 'float32'> <dtype: 'float64'> \n",
      "\n",
      "<class 'numpy.ndarray'> \n",
      "\n"
     ]
    },
    {
     "name": "stderr",
     "output_type": "stream",
     "text": [
      "2022-12-25 11:41:28.108411: I tensorflow/core/common_runtime/pluggable_device/pluggable_device_factory.cc:305] Could not identify NUMA node of platform GPU ID 0, defaulting to 0. Your kernel may not have been built with NUMA support.\n",
      "2022-12-25 11:41:28.108495: I tensorflow/core/common_runtime/pluggable_device/pluggable_device_factory.cc:271] Created TensorFlow device (/job:localhost/replica:0/task:0/device:GPU:0 with 0 MB memory) -> physical PluggableDevice (device: 0, name: METAL, pci bus id: <undefined>)\n"
     ]
    }
   ],
   "source": [
    "import os\n",
    "import tensorflow as tf  # 导入 TF 库\n",
    "from tensorflow import keras  # 导入 TF 子库\n",
    "from tensorflow.keras import layers, optimizers, datasets  # 导入 TF 子库\n",
    "\n",
    "print(\"\\n\",\"-------------type-------------\", \"\\n\")\n",
    "floatData = 1.2\n",
    "TensorData = tf.constant([1.2, 3.])  # 依list创建标量\n",
    "print(type(floatData), type(TensorData), tf.is_tensor(TensorData), '\\n')\n",
    "afterData = tf.cast(TensorData, tf.float64)  # 转换精度\n",
    "print(TensorData.dtype, afterData.dtype, '\\n')\n",
    "numpyData = TensorData.numpy()\n",
    "print(type(numpyData), '\\n')"
   ]
  },
  {
   "cell_type": "code",
   "execution_count": 8,
   "metadata": {},
   "outputs": [
    {
     "name": "stdout",
     "output_type": "stream",
     "text": [
      "\n",
      " -------------創建張量------------- \n",
      "\n",
      "tf.Tensor(\n",
      "[[1.]\n",
      " [1.]], shape=(2, 1), dtype=float32)\n",
      "tf.Tensor([[0. 0.]], shape=(1, 2), dtype=float32)\n",
      "tf.Tensor(\n",
      "[[-3 -3]\n",
      " [-3 -3]], shape=(2, 2), dtype=int32)\n",
      "tf.Tensor(\n",
      "[[1 1]\n",
      " [1 1]], shape=(2, 2), dtype=int32)\n"
     ]
    }
   ],
   "source": [
    "\n",
    "print(\"\\n\",\"-------------創建張量-------------\", \"\\n\")\n",
    "one = tf.ones([2,1])\n",
    "print(one)\n",
    "\n",
    "zero = tf.zeros([1,2])\n",
    "print(zero)\n",
    "\n",
    "fill = tf.fill([2,2],-3) # 自定义数值张量\n",
    "print(fill)\n",
    "\n",
    "like = tf.ones_like(fill) # 相同張量的1\n",
    "print(like)\n"
   ]
  },
  {
   "cell_type": "code",
   "execution_count": 17,
   "metadata": {},
   "outputs": [
    {
     "name": "stdout",
     "output_type": "stream",
     "text": [
      "\n",
      " -------------創建已知分佈向量------------- \n",
      "\n",
      "tf.Tensor(\n",
      "[[ 8.3630286e-02 -2.0070019e-04]\n",
      " [ 4.5356688e-01 -4.8913056e-01]], shape=(2, 2), dtype=float32) tf.Tensor(\n",
      "[[ 1.2865667   5.546808  ]\n",
      " [ 0.3312955  -0.37487435]], shape=(2, 2), dtype=float32)\n",
      "tf.Tensor(\n",
      "[[0.6502187  0.3562609 ]\n",
      " [0.93059504 0.01472116]], shape=(2, 2), dtype=float32) tf.Tensor(\n",
      "[[6.5021873  3.562609  ]\n",
      " [9.30595    0.14721155]], shape=(2, 2), dtype=float32)\n",
      "tf.Tensor([10 12 14 16 18], shape=(5,), dtype=int32)\n"
     ]
    }
   ],
   "source": [
    "\n",
    "print(\"\\n\",\"-------------創建已知分佈向量-------------\", \"\\n\")\n",
    "normal = tf.random.normal([2,2]) # 创建均值为 0，标准差为 1 的常態分布\n",
    "normal2 = tf.random.normal([2,2], mean=1,stddev=2)  # 创建均值为 1，标准差为 2 的常態分布\n",
    "print(normal, normal2)\n",
    "\n",
    "uniform = tf.random.uniform([2,2])\n",
    "uniform2 = tf.random.uniform([2,2] , maxval=10) # 從[0,10]區間的平均分佈\n",
    "print(uniform,uniform2)\n",
    "\n",
    "\n",
    "range1 = tf.range(10,20, delta=2) # [10,20]步長為2的序列\n",
    "print(range1)"
   ]
  },
  {
   "cell_type": "code",
   "execution_count": 19,
   "metadata": {},
   "outputs": [
    {
     "name": "stdout",
     "output_type": "stream",
     "text": [
      "\n",
      " -------------MSE實戰------------- \n",
      "\n",
      "tf.Tensor(0.36244085, shape=(), dtype=float32)\n"
     ]
    }
   ],
   "source": [
    "print(\"\\n\",\"-------------MSE實戰-------------\", \"\\n\")\n",
    "out = tf.random.uniform([4,10]) #随机模拟网络输出\n",
    "y = tf.constant([2,3,2,0]) # 随机构造样本真实标签\n",
    "y = tf.one_hot(y, depth=10) # one-hot编码\n",
    "loss = tf.keras.losses.mse(y, out) # 计算每个样本的MSE\n",
    "loss = tf.reduce_mean(loss) # 平均MSE \n",
    "print(loss)\n"
   ]
  },
  {
   "cell_type": "code",
   "execution_count": 3,
   "metadata": {},
   "outputs": [
    {
     "name": "stdout",
     "output_type": "stream",
     "text": [
      "\n",
      " -------------實際演練------------- \n",
      "\n",
      "(60000, 28, 28) (60000, 10) \n",
      "\n",
      "<TensorSliceDataset>: \n",
      " <TensorSliceDataset element_spec=(TensorSpec(shape=(28, 28), dtype=tf.float32, name=None), TensorSpec(shape=(10,), dtype=tf.float32, name=None))> \n",
      "\n",
      "<BatchDataset>: \n",
      " <BatchDataset element_spec=(TensorSpec(shape=(None, 28, 28), dtype=tf.float32, name=None), TensorSpec(shape=(None, 10), dtype=tf.float32, name=None))> \n",
      "\n"
     ]
    }
   ],
   "source": [
    "\n",
    "print(\"\\n\",\"-------------圖片處理實戰-------------\", \"\\n\")\n",
    "(x, y), (x_val, y_val) = datasets.mnist.load_data()  # 加载数据集\n",
    "x = 2 * tf.convert_to_tensor(x, dtype=tf.float32) / 255. - 1  # 转换为张量，缩放到-1~1\n",
    "y = tf.convert_to_tensor(y, dtype=tf.int32)  # 转换为张量\n",
    "y = tf.one_hot(y, depth=10)  # one-hot编码\n",
    "print(x.shape, y.shape, '\\n')\n",
    "train_dataset = tf.data.Dataset.from_tensor_slices((x, y))  # 构建数据集对象\n",
    "print('<TensorSliceDataset>:', '\\n', train_dataset, '\\n')\n",
    "train_dataset = train_dataset.batch(512)  # 批量训练\n",
    "print('<BatchDataset>:', '\\n', train_dataset, '\\n')\n"
   ]
  }
 ],
 "metadata": {
  "kernelspec": {
   "display_name": "tensorflow",
   "language": "python",
   "name": "python3"
  },
  "language_info": {
   "codemirror_mode": {
    "name": "ipython",
    "version": 3
   },
   "file_extension": ".py",
   "mimetype": "text/x-python",
   "name": "python",
   "nbconvert_exporter": "python",
   "pygments_lexer": "ipython3",
   "version": "3.8.13 | packaged by conda-forge | (default, Mar 25 2022, 06:05:16) \n[Clang 12.0.1 ]"
  },
  "orig_nbformat": 4,
  "vscode": {
   "interpreter": {
    "hash": "4bd624a0593993fe43ac4046b27b898fb2ef75c21c08f81e89e64ea0f51df676"
   }
  }
 },
 "nbformat": 4,
 "nbformat_minor": 2
}
