{
 "cells": [
  {
   "attachments": {},
   "cell_type": "markdown",
   "metadata": {},
   "source": [
    "# "
   ]
  },
  {
   "cell_type": "code",
   "execution_count": 12,
   "metadata": {},
   "outputs": [
    {
     "name": "stdout",
     "output_type": "stream",
     "text": [
      "tf.Tensor(\n",
      "[[-1.733462   -1.055412  ]\n",
      " [ 0.8178315  -0.20405886]\n",
      " [ 0.41260222 -0.41485578]\n",
      " [ 1.959654   -0.47556508]], shape=(4, 2), dtype=float32)\n"
     ]
    }
   ],
   "source": [
    "# 為何tensorflow允許張量直接相加，因為Dense的Broadcasting機制會自動處理複製增加維度。\n",
    "z = tf.random.normal([4,2])\n",
    "b = tf.zeros([2]) # 模拟偏置向量\n",
    "z = z + b # 累加偏置\n",
    "print(z)"
   ]
  },
  {
   "attachments": {},
   "cell_type": "markdown",
   "metadata": {},
   "source": [
    "通過類Dense()方式创建的网络层，张量 W 和𝒃存储在类的内部，由類自動創建並管理。\n",
    "\n",
    "- 可以通過全連接層的 bias 成員變量查看偏置變量𝒃\n",
    "- 可以通過全連接層的 kernel 成員名查看其權值矩陣 W<br/>\n",
    "- 可以通過張量的 ndim 和 shape 成員屬性獲得張量的維度數和形狀<br/>\n",
    "\n",
    "可以看到，類的偏置成員 bias 初始化為全 0，這也是偏置𝒃的默認初始化方案。"
   ]
  },
  {
   "cell_type": "code",
   "execution_count": 9,
   "metadata": {},
   "outputs": [
    {
     "name": "stdout",
     "output_type": "stream",
     "text": [
      "b <tf.Variable 'bias:0' shape=(3,) dtype=float32, numpy=array([0., 0., 0.], dtype=float32)>\n",
      "W <tf.Variable 'kernel:0' shape=(4, 3) dtype=float32, numpy=\n",
      "array([[-0.4349549 , -0.9147078 ,  0.8982338 ],\n",
      "       [-0.3253057 ,  0.63039565,  0.3054316 ],\n",
      "       [-0.25035816, -0.08617008, -0.10960591],\n",
      "       [ 0.4747945 ,  0.42446947,  0.64993954]], dtype=float32)>\n",
      "W shape (4, 3)\n"
     ]
    }
   ],
   "source": [
    "import tensorflow as tf\n",
    "from tensorflow.keras import layers\n",
    "\n",
    "fc = layers.Dense(3) # 创建一层Wx+b，输出节点为3\n",
    "fc.build(input_shape=(2,4))\n",
    "print(\"b\",fc.bias)\n",
    "print(\"W\",fc.kernel)\n",
    "print(\"W shape\",fc.kernel.shape) # (4,3)"
   ]
  }
 ],
 "metadata": {
  "kernelspec": {
   "display_name": "tensorflow",
   "language": "python",
   "name": "python3"
  },
  "language_info": {
   "codemirror_mode": {
    "name": "ipython",
    "version": 3
   },
   "file_extension": ".py",
   "mimetype": "text/x-python",
   "name": "python",
   "nbconvert_exporter": "python",
   "pygments_lexer": "ipython3",
   "version": "3.8.13"
  },
  "orig_nbformat": 4,
  "vscode": {
   "interpreter": {
    "hash": "4bd624a0593993fe43ac4046b27b898fb2ef75c21c08f81e89e64ea0f51df676"
   }
  }
 },
 "nbformat": 4,
 "nbformat_minor": 2
}
